{
 "cells": [
  {
   "cell_type": "code",
   "execution_count": 1,
   "id": "a9e3c8fd-20dc-4616-a460-3d9121575ba2",
   "metadata": {},
   "outputs": [],
   "source": [
    "import requests"
   ]
  },
  {
   "cell_type": "code",
   "execution_count": 2,
   "id": "841a425f-3d43-4d77-93f8-d08773d55852",
   "metadata": {},
   "outputs": [],
   "source": [
    "standings_url = \"https://www.sports-reference.com/cbb/seasons/men/2024-school-stats.html\" #all NCAA teams and their ranking and stats. Also has links to individual team pages"
   ]
  },
  {
   "cell_type": "code",
   "execution_count": 3,
   "id": "3e06cbc4-7b09-4295-a834-85b356f61997",
   "metadata": {},
   "outputs": [],
   "source": [
    "data = requests.get(standings_url)"
   ]
  },
  {
   "cell_type": "code",
   "execution_count": 4,
   "id": "f020c3bb-3736-4d80-8160-494302210f6a",
   "metadata": {},
   "outputs": [],
   "source": [
    "from bs4 import BeautifulSoup"
   ]
  },
  {
   "cell_type": "code",
   "execution_count": 5,
   "id": "c66c446e-9fdc-4913-8083-c31b29f4e763",
   "metadata": {},
   "outputs": [],
   "source": [
    "soup = BeautifulSoup(data.text)"
   ]
  },
  {
   "cell_type": "code",
   "execution_count": 6,
   "id": "e1f16f73-26aa-4575-89d7-73481dfa2f54",
   "metadata": {},
   "outputs": [],
   "source": [
    "standings_table = soup.select('table.stats_table')[0]"
   ]
  },
  {
   "cell_type": "code",
   "execution_count": 7,
   "id": "06e31bb8-4978-4944-b76c-ea361e8525e4",
   "metadata": {},
   "outputs": [],
   "source": [
    "links = standings_table.find_all('a')"
   ]
  },
  {
   "cell_type": "code",
   "execution_count": 8,
   "id": "818fc142-2470-4e00-9f97-c9e6b3294444",
   "metadata": {},
   "outputs": [],
   "source": [
    "links = [l.get(\"href\") for l in links] #grabs team page links"
   ]
  },
  {
   "cell_type": "code",
   "execution_count": 9,
   "id": "9d3e4172-4f4b-46a1-99ef-614e058c3199",
   "metadata": {},
   "outputs": [],
   "source": [
    "team_urls = [f\"https://www.sports-reference.com{l}\" for l in links] #team page links are releative url, convering to absolute"
   ]
  },
  {
   "cell_type": "code",
   "execution_count": 15,
   "id": "fea03db2-292f-422d-b735-f893c17a39dd",
   "metadata": {},
   "outputs": [],
   "source": [
    "years = list(range(2024, 2022, -1))"
   ]
  },
  {
   "cell_type": "code",
   "execution_count": 16,
   "id": "187824e2-3e70-401c-a4a5-e64e5df53fab",
   "metadata": {},
   "outputs": [
    {
     "data": {
      "text/plain": [
       "[2024, 2023]"
      ]
     },
     "execution_count": 16,
     "metadata": {},
     "output_type": "execute_result"
    }
   ],
   "source": [
    "years"
   ]
  },
  {
   "cell_type": "code",
   "execution_count": 17,
   "id": "0d4acfd8-3b6f-4537-aa38-a42caa8699ae",
   "metadata": {},
   "outputs": [],
   "source": [
    "all_matches = []"
   ]
  },
  {
   "cell_type": "code",
   "execution_count": null,
   "id": "fbae94f0-c829-43e5-97bb-3833fda87a7e",
   "metadata": {},
   "outputs": [],
   "source": [
    "standings_url = \""
   ]
  }
 ],
 "metadata": {
  "kernelspec": {
   "display_name": "Python 3 (ipykernel)",
   "language": "python",
   "name": "python3"
  },
  "language_info": {
   "codemirror_mode": {
    "name": "ipython",
    "version": 3
   },
   "file_extension": ".py",
   "mimetype": "text/x-python",
   "name": "python",
   "nbconvert_exporter": "python",
   "pygments_lexer": "ipython3",
   "version": "3.13.1"
  }
 },
 "nbformat": 4,
 "nbformat_minor": 5
}
