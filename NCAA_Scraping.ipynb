{
 "cells": [
  {
   "cell_type": "code",
   "execution_count": 1,
   "id": "a9e3c8fd-20dc-4616-a460-3d9121575ba2",
   "metadata": {},
   "outputs": [],
   "source": [
    "import requests"
   ]
  },
  {
   "cell_type": "code",
   "execution_count": 2,
   "id": "841a425f-3d43-4d77-93f8-d08773d55852",
   "metadata": {},
   "outputs": [],
   "source": [
    "standings_url = \"https://www.sports-reference.com/cbb/seasons/men/2024-school-stats.html\" #all NCAA teams and their ranking and stats. Also has links to individual team pages"
   ]
  },
  {
   "cell_type": "code",
   "execution_count": 3,
   "id": "3e06cbc4-7b09-4295-a834-85b356f61997",
   "metadata": {},
   "outputs": [],
   "source": [
    "data = requests.get(standings_url)"
   ]
  },
  {
   "cell_type": "code",
   "execution_count": 4,
   "id": "f020c3bb-3736-4d80-8160-494302210f6a",
   "metadata": {},
   "outputs": [],
   "source": [
    "from bs4 import BeautifulSoup"
   ]
  },
  {
   "cell_type": "code",
   "execution_count": 5,
   "id": "c66c446e-9fdc-4913-8083-c31b29f4e763",
   "metadata": {},
   "outputs": [],
   "source": [
    "soup = BeautifulSoup(data.text)"
   ]
  },
  {
   "cell_type": "code",
   "execution_count": 6,
   "id": "e1f16f73-26aa-4575-89d7-73481dfa2f54",
   "metadata": {},
   "outputs": [],
   "source": [
    "standings_table = soup.select('table.stats_table')[0]"
   ]
  },
  {
   "cell_type": "code",
   "execution_count": 7,
   "id": "06e31bb8-4978-4944-b76c-ea361e8525e4",
   "metadata": {},
   "outputs": [],
   "source": [
    "links = standings_table.find_all('a')"
   ]
  },
  {
   "cell_type": "code",
   "execution_count": 8,
   "id": "818fc142-2470-4e00-9f97-c9e6b3294444",
   "metadata": {},
   "outputs": [],
   "source": [
    "links = [l.get(\"href\") for l in links] #grabs team page links"
   ]
  },
  {
   "cell_type": "code",
   "execution_count": 9,
   "id": "9d3e4172-4f4b-46a1-99ef-614e058c3199",
   "metadata": {},
   "outputs": [],
   "source": [
    "team_urls = [f\"https://www.sports-reference.com{l}\" for l in links] #team page links are releative url, convering to absolute"
   ]
  },
  {
   "cell_type": "code",
   "execution_count": 10,
   "id": "1d85fa21-efcd-4821-a479-b07ead07be3b",
   "metadata": {},
   "outputs": [],
   "source": [
    "team_url = team_urls[0]"
   ]
  },
  {
   "cell_type": "code",
   "execution_count": 11,
   "id": "b59c1c31-83b3-4631-871b-483915065cc5",
   "metadata": {},
   "outputs": [],
   "source": [
    "data = requests.get(team_url)"
   ]
  },
  {
   "cell_type": "code",
   "execution_count": 12,
   "id": "0a180bad-936d-4837-bf1d-1fc4ab1ce8fa",
   "metadata": {},
   "outputs": [],
   "source": [
    "soup = BeautifulSoup(data.text)"
   ]
  },
  {
   "cell_type": "code",
   "execution_count": 13,
   "id": "8f9e0380-989e-45c0-b193-9de41b8cd4cf",
   "metadata": {},
   "outputs": [],
   "source": [
    "game_logs = soup.select('div.inactive')[0]"
   ]
  },
  {
   "cell_type": "code",
   "execution_count": 14,
   "id": "3fa56d73-8de4-4c04-9056-98d603053aa2",
   "metadata": {},
   "outputs": [],
   "source": [
    "links = game_logs.find_all('a')"
   ]
  },
  {
   "cell_type": "code",
   "execution_count": 15,
   "id": "df0496f6-67e8-4fc1-b0c3-4e63d2443c1d",
   "metadata": {},
   "outputs": [],
   "source": [
    "links = [l.get(\"href\") for l in links]"
   ]
  },
  {
   "cell_type": "code",
   "execution_count": 16,
   "id": "3b2aed15-6868-45f9-b0d7-e945907a8105",
   "metadata": {},
   "outputs": [
    {
     "data": {
      "text/plain": [
       "['/cbb/schools/abilene-christian/men/',\n",
       " '/cbb/schools/abilene-christian/men/2024.html',\n",
       " '/cbb/schools/abilene-christian/men/2024-schedule.html',\n",
       " '/cbb/schools/abilene-christian/men/2024-gamelogs.html',\n",
       " '/cbb/schools/abilene-christian/men/2024-starters.html',\n",
       " '/cbb/schools/abilene-christian/men/2024.html',\n",
       " '/cbb/schools/abilene-christian/men/2024-schedule.html',\n",
       " '/cbb/schools/abilene-christian/men/2024-gamelogs.html',\n",
       " '/cbb/schools/abilene-christian/men/2024-starters.html',\n",
       " '#all_roster',\n",
       " '#all_per_game_team',\n",
       " '#all_players_per_game',\n",
       " '#all_players_totals',\n",
       " '#all_players_per_min',\n",
       " '#all_players_per_poss',\n",
       " '#all_players_advanced',\n",
       " '#site_menu_link']"
      ]
     },
     "execution_count": 16,
     "metadata": {},
     "output_type": "execute_result"
    }
   ],
   "source": [
    "links"
   ]
  },
  {
   "cell_type": "code",
   "execution_count": 17,
   "id": "f421e3ba-7120-4cb0-8d58-9b661610ce69",
   "metadata": {},
   "outputs": [],
   "source": [
    "import pandas as pd"
   ]
  },
  {
   "cell_type": "code",
   "execution_count": 18,
   "id": "ebaee8b5-679c-4800-913f-306c847b837a",
   "metadata": {},
   "outputs": [],
   "source": [
    "from io import StringIO"
   ]
  },
  {
   "cell_type": "code",
   "execution_count": 19,
   "id": "40823041-2927-4d2f-97de-bc04a509c3bb",
   "metadata": {},
   "outputs": [],
   "source": [
    "import html5lib"
   ]
  },
  {
   "cell_type": "code",
   "execution_count": 20,
   "id": "1d1aa610-1933-4afd-bda7-80f2c0060c46",
   "metadata": {},
   "outputs": [],
   "source": [
    "data = requests.get(f\"https://www.sports-reference.com{links[3]}\")"
   ]
  },
  {
   "cell_type": "code",
   "execution_count": 21,
   "id": "c8a9f640-5084-403b-9f5f-14601c63cb90",
   "metadata": {},
   "outputs": [],
   "source": [
    "game_log = pd.read_html(StringIO(data.text), match = \"Basic Game Log\", flavor=\"bs4\")[0]"
   ]
  },
  {
   "cell_type": "code",
   "execution_count": 22,
   "id": "1224fa75-203f-4c27-a4e9-43b127231d5d",
   "metadata": {},
   "outputs": [
    {
     "data": {
      "text/html": [
       "<div>\n",
       "<style scoped>\n",
       "    .dataframe tbody tr th:only-of-type {\n",
       "        vertical-align: middle;\n",
       "    }\n",
       "\n",
       "    .dataframe tbody tr th {\n",
       "        vertical-align: top;\n",
       "    }\n",
       "\n",
       "    .dataframe thead tr th {\n",
       "        text-align: left;\n",
       "    }\n",
       "</style>\n",
       "<table border=\"1\" class=\"dataframe\">\n",
       "  <thead>\n",
       "    <tr>\n",
       "      <th></th>\n",
       "      <th>Unnamed: 0_level_0</th>\n",
       "      <th>Unnamed: 1_level_0</th>\n",
       "      <th>Unnamed: 2_level_0</th>\n",
       "      <th>Unnamed: 3_level_0</th>\n",
       "      <th>Unnamed: 4_level_0</th>\n",
       "      <th>Unnamed: 5_level_0</th>\n",
       "      <th>Unnamed: 6_level_0</th>\n",
       "      <th colspan=\"3\" halign=\"left\">School</th>\n",
       "      <th>...</th>\n",
       "      <th colspan=\"10\" halign=\"left\">Opponent</th>\n",
       "    </tr>\n",
       "    <tr>\n",
       "      <th></th>\n",
       "      <th>G</th>\n",
       "      <th>Date</th>\n",
       "      <th>Unnamed: 2_level_1</th>\n",
       "      <th>Opp</th>\n",
       "      <th>W/L</th>\n",
       "      <th>Tm</th>\n",
       "      <th>Opp</th>\n",
       "      <th>FG</th>\n",
       "      <th>FGA</th>\n",
       "      <th>FG%</th>\n",
       "      <th>...</th>\n",
       "      <th>FT</th>\n",
       "      <th>FTA</th>\n",
       "      <th>FT%</th>\n",
       "      <th>ORB</th>\n",
       "      <th>TRB</th>\n",
       "      <th>AST</th>\n",
       "      <th>STL</th>\n",
       "      <th>BLK</th>\n",
       "      <th>TOV</th>\n",
       "      <th>PF</th>\n",
       "    </tr>\n",
       "  </thead>\n",
       "  <tbody>\n",
       "    <tr>\n",
       "      <th>0</th>\n",
       "      <td>1</td>\n",
       "      <td>2023-11-06</td>\n",
       "      <td>@</td>\n",
       "      <td>Oklahoma State</td>\n",
       "      <td>W</td>\n",
       "      <td>64</td>\n",
       "      <td>59</td>\n",
       "      <td>26</td>\n",
       "      <td>57</td>\n",
       "      <td>.456</td>\n",
       "      <td>...</td>\n",
       "      <td>8</td>\n",
       "      <td>20</td>\n",
       "      <td>.400</td>\n",
       "      <td>6</td>\n",
       "      <td>32</td>\n",
       "      <td>13</td>\n",
       "      <td>9</td>\n",
       "      <td>2</td>\n",
       "      <td>12</td>\n",
       "      <td>16</td>\n",
       "    </tr>\n",
       "    <tr>\n",
       "      <th>1</th>\n",
       "      <td>2</td>\n",
       "      <td>2023-11-10</td>\n",
       "      <td>@</td>\n",
       "      <td>NC State</td>\n",
       "      <td>L</td>\n",
       "      <td>64</td>\n",
       "      <td>84</td>\n",
       "      <td>20</td>\n",
       "      <td>57</td>\n",
       "      <td>.351</td>\n",
       "      <td>...</td>\n",
       "      <td>20</td>\n",
       "      <td>24</td>\n",
       "      <td>.833</td>\n",
       "      <td>12</td>\n",
       "      <td>34</td>\n",
       "      <td>12</td>\n",
       "      <td>4</td>\n",
       "      <td>3</td>\n",
       "      <td>7</td>\n",
       "      <td>20</td>\n",
       "    </tr>\n",
       "    <tr>\n",
       "      <th>2</th>\n",
       "      <td>3</td>\n",
       "      <td>2023-11-14</td>\n",
       "      <td>NaN</td>\n",
       "      <td>Prairie View</td>\n",
       "      <td>L</td>\n",
       "      <td>74</td>\n",
       "      <td>79</td>\n",
       "      <td>23</td>\n",
       "      <td>60</td>\n",
       "      <td>.383</td>\n",
       "      <td>...</td>\n",
       "      <td>33</td>\n",
       "      <td>34</td>\n",
       "      <td>.971</td>\n",
       "      <td>8</td>\n",
       "      <td>34</td>\n",
       "      <td>7</td>\n",
       "      <td>8</td>\n",
       "      <td>5</td>\n",
       "      <td>14</td>\n",
       "      <td>23</td>\n",
       "    </tr>\n",
       "    <tr>\n",
       "      <th>3</th>\n",
       "      <td>4</td>\n",
       "      <td>2023-11-17</td>\n",
       "      <td>N</td>\n",
       "      <td>San Jose State</td>\n",
       "      <td>W</td>\n",
       "      <td>77</td>\n",
       "      <td>71</td>\n",
       "      <td>25</td>\n",
       "      <td>59</td>\n",
       "      <td>.424</td>\n",
       "      <td>...</td>\n",
       "      <td>7</td>\n",
       "      <td>12</td>\n",
       "      <td>.583</td>\n",
       "      <td>9</td>\n",
       "      <td>35</td>\n",
       "      <td>13</td>\n",
       "      <td>4</td>\n",
       "      <td>3</td>\n",
       "      <td>6</td>\n",
       "      <td>18</td>\n",
       "    </tr>\n",
       "    <tr>\n",
       "      <th>4</th>\n",
       "      <td>5</td>\n",
       "      <td>2023-11-19</td>\n",
       "      <td>N</td>\n",
       "      <td>Fordham</td>\n",
       "      <td>W</td>\n",
       "      <td>59</td>\n",
       "      <td>45</td>\n",
       "      <td>22</td>\n",
       "      <td>55</td>\n",
       "      <td>.400</td>\n",
       "      <td>...</td>\n",
       "      <td>12</td>\n",
       "      <td>21</td>\n",
       "      <td>.571</td>\n",
       "      <td>16</td>\n",
       "      <td>41</td>\n",
       "      <td>3</td>\n",
       "      <td>5</td>\n",
       "      <td>3</td>\n",
       "      <td>19</td>\n",
       "      <td>16</td>\n",
       "    </tr>\n",
       "  </tbody>\n",
       "</table>\n",
       "<p>5 rows × 40 columns</p>\n",
       "</div>"
      ],
      "text/plain": [
       "  Unnamed: 0_level_0 Unnamed: 1_level_0 Unnamed: 2_level_0 Unnamed: 3_level_0  \\\n",
       "                   G               Date Unnamed: 2_level_1                Opp   \n",
       "0                  1         2023-11-06                  @     Oklahoma State   \n",
       "1                  2         2023-11-10                  @           NC State   \n",
       "2                  3         2023-11-14                NaN       Prairie View   \n",
       "3                  4         2023-11-17                  N     San Jose State   \n",
       "4                  5         2023-11-19                  N            Fordham   \n",
       "\n",
       "  Unnamed: 4_level_0 Unnamed: 5_level_0 Unnamed: 6_level_0 School            \\\n",
       "                 W/L                 Tm                Opp     FG FGA   FG%   \n",
       "0                  W                 64                 59     26  57  .456   \n",
       "1                  L                 64                 84     20  57  .351   \n",
       "2                  L                 74                 79     23  60  .383   \n",
       "3                  W                 77                 71     25  59  .424   \n",
       "4                  W                 59                 45     22  55  .400   \n",
       "\n",
       "   ... Opponent                                        \n",
       "   ...       FT FTA   FT% ORB TRB AST STL BLK TOV  PF  \n",
       "0  ...        8  20  .400   6  32  13   9   2  12  16  \n",
       "1  ...       20  24  .833  12  34  12   4   3   7  20  \n",
       "2  ...       33  34  .971   8  34   7   8   5  14  23  \n",
       "3  ...        7  12  .583   9  35  13   4   3   6  18  \n",
       "4  ...       12  21  .571  16  41   3   5   3  19  16  \n",
       "\n",
       "[5 rows x 40 columns]"
      ]
     },
     "execution_count": 22,
     "metadata": {},
     "output_type": "execute_result"
    }
   ],
   "source": [
    "game_log.head()"
   ]
  },
  {
   "cell_type": "code",
   "execution_count": 23,
   "id": "bd584c2e-2ea6-4d76-8133-f09cbf171d52",
   "metadata": {},
   "outputs": [],
   "source": [
    "game_log.columns = game_log.columns.droplevel()"
   ]
  },
  {
   "cell_type": "code",
   "execution_count": 24,
   "id": "e921ea12-ee0b-4f67-80d6-fb3a89d5fff8",
   "metadata": {},
   "outputs": [
    {
     "data": {
      "text/html": [
       "<div>\n",
       "<style scoped>\n",
       "    .dataframe tbody tr th:only-of-type {\n",
       "        vertical-align: middle;\n",
       "    }\n",
       "\n",
       "    .dataframe tbody tr th {\n",
       "        vertical-align: top;\n",
       "    }\n",
       "\n",
       "    .dataframe thead th {\n",
       "        text-align: right;\n",
       "    }\n",
       "</style>\n",
       "<table border=\"1\" class=\"dataframe\">\n",
       "  <thead>\n",
       "    <tr style=\"text-align: right;\">\n",
       "      <th></th>\n",
       "      <th>G</th>\n",
       "      <th>Date</th>\n",
       "      <th>Unnamed: 2_level_1</th>\n",
       "      <th>Opp</th>\n",
       "      <th>W/L</th>\n",
       "      <th>Tm</th>\n",
       "      <th>Opp</th>\n",
       "      <th>FG</th>\n",
       "      <th>FGA</th>\n",
       "      <th>FG%</th>\n",
       "      <th>...</th>\n",
       "      <th>FT</th>\n",
       "      <th>FTA</th>\n",
       "      <th>FT%</th>\n",
       "      <th>ORB</th>\n",
       "      <th>TRB</th>\n",
       "      <th>AST</th>\n",
       "      <th>STL</th>\n",
       "      <th>BLK</th>\n",
       "      <th>TOV</th>\n",
       "      <th>PF</th>\n",
       "    </tr>\n",
       "  </thead>\n",
       "  <tbody>\n",
       "    <tr>\n",
       "      <th>0</th>\n",
       "      <td>1</td>\n",
       "      <td>2023-11-06</td>\n",
       "      <td>@</td>\n",
       "      <td>Oklahoma State</td>\n",
       "      <td>W</td>\n",
       "      <td>64</td>\n",
       "      <td>59</td>\n",
       "      <td>26</td>\n",
       "      <td>57</td>\n",
       "      <td>.456</td>\n",
       "      <td>...</td>\n",
       "      <td>8</td>\n",
       "      <td>20</td>\n",
       "      <td>.400</td>\n",
       "      <td>6</td>\n",
       "      <td>32</td>\n",
       "      <td>13</td>\n",
       "      <td>9</td>\n",
       "      <td>2</td>\n",
       "      <td>12</td>\n",
       "      <td>16</td>\n",
       "    </tr>\n",
       "    <tr>\n",
       "      <th>1</th>\n",
       "      <td>2</td>\n",
       "      <td>2023-11-10</td>\n",
       "      <td>@</td>\n",
       "      <td>NC State</td>\n",
       "      <td>L</td>\n",
       "      <td>64</td>\n",
       "      <td>84</td>\n",
       "      <td>20</td>\n",
       "      <td>57</td>\n",
       "      <td>.351</td>\n",
       "      <td>...</td>\n",
       "      <td>20</td>\n",
       "      <td>24</td>\n",
       "      <td>.833</td>\n",
       "      <td>12</td>\n",
       "      <td>34</td>\n",
       "      <td>12</td>\n",
       "      <td>4</td>\n",
       "      <td>3</td>\n",
       "      <td>7</td>\n",
       "      <td>20</td>\n",
       "    </tr>\n",
       "    <tr>\n",
       "      <th>2</th>\n",
       "      <td>3</td>\n",
       "      <td>2023-11-14</td>\n",
       "      <td>NaN</td>\n",
       "      <td>Prairie View</td>\n",
       "      <td>L</td>\n",
       "      <td>74</td>\n",
       "      <td>79</td>\n",
       "      <td>23</td>\n",
       "      <td>60</td>\n",
       "      <td>.383</td>\n",
       "      <td>...</td>\n",
       "      <td>33</td>\n",
       "      <td>34</td>\n",
       "      <td>.971</td>\n",
       "      <td>8</td>\n",
       "      <td>34</td>\n",
       "      <td>7</td>\n",
       "      <td>8</td>\n",
       "      <td>5</td>\n",
       "      <td>14</td>\n",
       "      <td>23</td>\n",
       "    </tr>\n",
       "    <tr>\n",
       "      <th>3</th>\n",
       "      <td>4</td>\n",
       "      <td>2023-11-17</td>\n",
       "      <td>N</td>\n",
       "      <td>San Jose State</td>\n",
       "      <td>W</td>\n",
       "      <td>77</td>\n",
       "      <td>71</td>\n",
       "      <td>25</td>\n",
       "      <td>59</td>\n",
       "      <td>.424</td>\n",
       "      <td>...</td>\n",
       "      <td>7</td>\n",
       "      <td>12</td>\n",
       "      <td>.583</td>\n",
       "      <td>9</td>\n",
       "      <td>35</td>\n",
       "      <td>13</td>\n",
       "      <td>4</td>\n",
       "      <td>3</td>\n",
       "      <td>6</td>\n",
       "      <td>18</td>\n",
       "    </tr>\n",
       "    <tr>\n",
       "      <th>4</th>\n",
       "      <td>5</td>\n",
       "      <td>2023-11-19</td>\n",
       "      <td>N</td>\n",
       "      <td>Fordham</td>\n",
       "      <td>W</td>\n",
       "      <td>59</td>\n",
       "      <td>45</td>\n",
       "      <td>22</td>\n",
       "      <td>55</td>\n",
       "      <td>.400</td>\n",
       "      <td>...</td>\n",
       "      <td>12</td>\n",
       "      <td>21</td>\n",
       "      <td>.571</td>\n",
       "      <td>16</td>\n",
       "      <td>41</td>\n",
       "      <td>3</td>\n",
       "      <td>5</td>\n",
       "      <td>3</td>\n",
       "      <td>19</td>\n",
       "      <td>16</td>\n",
       "    </tr>\n",
       "  </tbody>\n",
       "</table>\n",
       "<p>5 rows × 40 columns</p>\n",
       "</div>"
      ],
      "text/plain": [
       "   G        Date Unnamed: 2_level_1             Opp W/L  Tm Opp  FG FGA   FG%  \\\n",
       "0  1  2023-11-06                  @  Oklahoma State   W  64  59  26  57  .456   \n",
       "1  2  2023-11-10                  @        NC State   L  64  84  20  57  .351   \n",
       "2  3  2023-11-14                NaN    Prairie View   L  74  79  23  60  .383   \n",
       "3  4  2023-11-17                  N  San Jose State   W  77  71  25  59  .424   \n",
       "4  5  2023-11-19                  N         Fordham   W  59  45  22  55  .400   \n",
       "\n",
       "   ...  FT FTA   FT% ORB TRB AST STL BLK TOV  PF  \n",
       "0  ...   8  20  .400   6  32  13   9   2  12  16  \n",
       "1  ...  20  24  .833  12  34  12   4   3   7  20  \n",
       "2  ...  33  34  .971   8  34   7   8   5  14  23  \n",
       "3  ...   7  12  .583   9  35  13   4   3   6  18  \n",
       "4  ...  12  21  .571  16  41   3   5   3  19  16  \n",
       "\n",
       "[5 rows x 40 columns]"
      ]
     },
     "execution_count": 24,
     "metadata": {},
     "output_type": "execute_result"
    }
   ],
   "source": [
    "game_log.head()"
   ]
  },
  {
   "cell_type": "code",
   "execution_count": null,
   "id": "1684fa98-5cd7-43a9-8fb7-16464649f34d",
   "metadata": {},
   "outputs": [],
   "source": []
  },
  {
   "cell_type": "code",
   "execution_count": 25,
   "id": "4dde60c1-d530-4f0a-8324-25ee4f3fe835",
   "metadata": {},
   "outputs": [],
   "source": [
    "# Now scaling to all teams"
   ]
  },
  {
   "cell_type": "code",
   "execution_count": 26,
   "id": "fea03db2-292f-422d-b735-f893c17a39dd",
   "metadata": {},
   "outputs": [],
   "source": [
    "years = list(range(2024, 2022, -1))"
   ]
  },
  {
   "cell_type": "code",
   "execution_count": 27,
   "id": "187824e2-3e70-401c-a4a5-e64e5df53fab",
   "metadata": {},
   "outputs": [
    {
     "data": {
      "text/plain": [
       "[2024, 2023]"
      ]
     },
     "execution_count": 27,
     "metadata": {},
     "output_type": "execute_result"
    }
   ],
   "source": [
    "years"
   ]
  },
  {
   "cell_type": "code",
   "execution_count": 28,
   "id": "0d4acfd8-3b6f-4537-aa38-a42caa8699ae",
   "metadata": {},
   "outputs": [],
   "source": [
    "all_matches = []"
   ]
  },
  {
   "cell_type": "code",
   "execution_count": 29,
   "id": "d7b6f735-53d8-400f-9626-f3c502a3d40c",
   "metadata": {},
   "outputs": [],
   "source": [
    "import time"
   ]
  },
  {
   "cell_type": "code",
   "execution_count": 30,
   "id": "fbae94f0-c829-43e5-97bb-3833fda87a7e",
   "metadata": {},
   "outputs": [],
   "source": [
    "standings_url = \"https://www.sports-reference.com/cbb/seasons/men/2024-school-stats.html\""
   ]
  },
  {
   "cell_type": "code",
   "execution_count": 31,
   "id": "33d661d6-2e5c-4524-954a-d0d506b52d67",
   "metadata": {},
   "outputs": [],
   "source": [
    "for year in years:\n",
    "    data = requests.get(standings_url)\n",
    "    soup = BeautifulSoup(data.text)\n",
    "    standings_table = soup.select('table.stats_table')[0]\n",
    "    \n",
    "    links = standings_table.find_all('a')\n",
    "    links = [l.get(\"href\") for l in links]\n",
    "    team_urls = [f\"https://www.sports-reference.com{l}\" for l in links]\n",
    "\n",
    "    standings_url = \"https://www.sports-reference.com/cbb/seasons/men/2023-school-stats.html\"\n",
    "    \n",
    "    for team_url in team_urls:\n",
    "        team_name = team_url.split(\"/\")[-3].replace(\"-\", \" \")\n",
    "\n",
    "        data = requests.get(team_url)\n",
    "        soup = BeautifulSoup(data.text)\n",
    "        game_logs = soup.select('div.inactive')[0]\n",
    "        links = game_logs.find_all('a')\n",
    "        links = [l.get(\"href\") for l in links]\n",
    "        data = requests.get(f\"https://www.sports-reference.com{links[3]}\")\n",
    "        game_log = pd.read_html(StringIO(data.text), match = \"Basic Game Log\", flavor=\"bs4\")[0]\n",
    "        game_log.columns = game_log.columns.droplevel()\n",
    "\n",
    "        game_log[\"Season\"] = year\n",
    "        game_log[\"Team\"] = team_name\n",
    "        all_matches.append(game_log)\n",
    "\n",
    "        time.sleep(5)"
   ]
  },
  {
   "cell_type": "code",
   "execution_count": 32,
   "id": "c64ffbed-2f4e-4684-a138-77d8ccb18f1e",
   "metadata": {},
   "outputs": [],
   "source": [
    "match_df = pd.concat(all_matches)"
   ]
  },
  {
   "cell_type": "code",
   "execution_count": 33,
   "id": "d884c1e5-53e7-47fd-af28-cd63730d4b73",
   "metadata": {},
   "outputs": [],
   "source": [
    "match_df.columns = [c.lower() for c in match_df.columns]"
   ]
  },
  {
   "cell_type": "code",
   "execution_count": 34,
   "id": "081b25f1-e74c-40db-a793-cccf8ebfef38",
   "metadata": {},
   "outputs": [],
   "source": [
    "match_df.to_csv(\"NCAA_Data.csv\")"
   ]
  },
  {
   "cell_type": "code",
   "execution_count": null,
   "id": "f6a4b610-68de-4464-ac40-f8a1bc5dca69",
   "metadata": {},
   "outputs": [],
   "source": []
  }
 ],
 "metadata": {
  "kernelspec": {
   "display_name": "Python 3 (ipykernel)",
   "language": "python",
   "name": "python3"
  },
  "language_info": {
   "codemirror_mode": {
    "name": "ipython",
    "version": 3
   },
   "file_extension": ".py",
   "mimetype": "text/x-python",
   "name": "python",
   "nbconvert_exporter": "python",
   "pygments_lexer": "ipython3",
   "version": "3.13.1"
  }
 },
 "nbformat": 4,
 "nbformat_minor": 5
}
